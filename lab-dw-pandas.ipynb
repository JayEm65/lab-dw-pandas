{
 "cells": [
  {
   "cell_type": "markdown",
   "id": "25d7736c-ba17-4aff-b6bb-66eba20fbf4e",
   "metadata": {},
   "source": [
    "# Lab | Pandas"
   ]
  },
  {
   "cell_type": "markdown",
   "id": "d1973e9e-8be6-4039-b70e-d73ee0d94c99",
   "metadata": {},
   "source": [
    "In this lab, we will be working with the customer data from an insurance company, which can be found in the CSV file located at the following link: https://raw.githubusercontent.com/data-bootcamp-v4/data/main/file1.csv\n",
    "\n",
    "The data includes information such as customer ID, state, gender, education, income, and other variables that can be used to perform various analyses.\n",
    "\n",
    "Throughout the lab, we will be using the pandas library in Python to manipulate and analyze the data. Pandas is a powerful library that provides various data manipulation and analysis tools, including the ability to load and manipulate data from a variety of sources, including CSV files."
   ]
  },
  {
   "cell_type": "markdown",
   "id": "8045146f-f4f7-44d9-8cd9-130d6400c73a",
   "metadata": {},
   "source": [
    "### Data Description\n",
    "\n",
    "- Customer - Customer ID\n",
    "\n",
    "- ST - State where customers live\n",
    "\n",
    "- Gender - Gender of the customer\n",
    "\n",
    "- Education - Background education of customers \n",
    "\n",
    "- Customer Lifetime Value - Customer lifetime value(CLV) is the total revenue the client will derive from their entire relationship with a customer. In other words, is the predicted or calculated value of a customer over their entire duration as a policyholder with the insurance company. It is an estimation of the net profit that the insurance company expects to generate from a customer throughout their relationship with the company. Customer Lifetime Value takes into account factors such as the duration of the customer's policy, premium payments, claim history, renewal likelihood, and potential additional services or products the customer may purchase. It helps insurers assess the long-term profitability and value associated with retaining a particular customer.\n",
    "\n",
    "- Income - Customers income\n",
    "\n",
    "- Monthly Premium Auto - Amount of money the customer pays on a monthly basis as a premium for their auto insurance coverage. It represents the recurring cost that the insured person must pay to maintain their insurance policy and receive coverage for potential damages, accidents, or other covered events related to their vehicle.\n",
    "\n",
    "- Number of Open Complaints - Number of complaints the customer opened\n",
    "\n",
    "- Policy Type - There are three type of policies in car insurance (Corporate Auto, Personal Auto, and Special Auto)\n",
    "\n",
    "- Vehicle Class - Type of vehicle classes that customers have Two-Door Car, Four-Door Car SUV, Luxury SUV, Sports Car, and Luxury Car\n",
    "\n",
    "- Total Claim Amount - the sum of all claims made by the customer. It represents the total monetary value of all approved claims for incidents such as accidents, theft, vandalism, or other covered events.\n"
   ]
  },
  {
   "cell_type": "markdown",
   "id": "3a72419b-20fc-4905-817a-8c83abc59de6",
   "metadata": {},
   "source": [
    "External Resources: https://towardsdatascience.com/filtering-data-frames-in-pandas-b570b1f834b9"
   ]
  },
  {
   "cell_type": "markdown",
   "id": "8f8ece17-e919-4e23-96c0-c7c59778436a",
   "metadata": {},
   "source": [
    "## Challenge 1: Understanding the data\n",
    "\n",
    "In this challenge, you will use pandas to explore a given dataset. Your task is to gain a deep understanding of the data by analyzing its characteristics, dimensions, and statistical properties."
   ]
  },
  {
   "cell_type": "markdown",
   "id": "91437bd5-59a6-49c0-8150-ef0e6e6eb253",
   "metadata": {},
   "source": [
    "- Identify the dimensions of the dataset by determining the number of rows and columns it contains.\n",
    "- Determine the data types of each column and evaluate whether they are appropriate for the nature of the variable. You should also provide suggestions for fixing any incorrect data types.\n",
    "- Identify the number of unique values for each column and determine which columns appear to be categorical. You should also describe the unique values of each categorical column and the range of values for numerical columns, and give your insights.\n",
    "- Compute summary statistics such as mean, median, mode, standard deviation, and quartiles to understand the central tendency and distribution of the data for numerical columns. You should also provide your conclusions based on these summary statistics.\n",
    "- Compute summary statistics for categorical columns and providing your conclusions based on these statistics."
   ]
  },
  {
   "cell_type": "code",
   "execution_count": 2,
   "id": "dd4e8cd8-a6f6-486c-a5c4-1745b0c035f4",
   "metadata": {},
   "outputs": [
    {
     "name": "stdout",
     "output_type": "stream",
     "text": [
      "Dimensions of the dataset: (4008, 11)\n",
      "\n",
      "Data types of each column:\n",
      " Customer                      object\n",
      "ST                            object\n",
      "GENDER                        object\n",
      "Education                     object\n",
      "Customer Lifetime Value       object\n",
      "Income                       float64\n",
      "Monthly Premium Auto         float64\n",
      "Number of Open Complaints     object\n",
      "Policy Type                   object\n",
      "Vehicle Class                 object\n",
      "Total Claim Amount           float64\n",
      "dtype: object\n",
      "\n",
      "Number of unique values in each column:\n",
      " Customer                     1071\n",
      "ST                              8\n",
      "GENDER                          5\n",
      "Education                       6\n",
      "Customer Lifetime Value      1027\n",
      "Income                        774\n",
      "Monthly Premium Auto          132\n",
      "Number of Open Complaints       6\n",
      "Policy Type                     3\n",
      "Vehicle Class                   6\n",
      "Total Claim Amount            761\n",
      "dtype: int64\n",
      "\n",
      "Categorical columns: Index(['Customer', 'ST', 'GENDER', 'Education', 'Customer Lifetime Value',\n",
      "       'Number of Open Complaints', 'Policy Type', 'Vehicle Class'],\n",
      "      dtype='object')\n",
      "\n",
      "Unique values in Customer:\n",
      " ['RB50392' 'QZ44356' 'AI49188' ... 'CW49887' 'MY31220' nan]\n",
      "\n",
      "Unique values in ST:\n",
      " ['Washington' 'Arizona' 'Nevada' 'California' 'Oregon' 'Cali' 'AZ' 'WA'\n",
      " nan]\n",
      "\n",
      "Unique values in GENDER:\n",
      " [nan 'F' 'M' 'Femal' 'Male' 'female']\n",
      "\n",
      "Unique values in Education:\n",
      " ['Master' 'Bachelor' 'High School or Below' 'College' 'Bachelors' 'Doctor'\n",
      " nan]\n",
      "\n",
      "Unique values in Customer Lifetime Value:\n",
      " [nan '697953.59%' '1288743.17%' ... '2031499.76%' '323912.47%'\n",
      " '899704.02%']\n",
      "\n",
      "Unique values in Number of Open Complaints:\n",
      " ['1/0/00' '1/2/00' '1/1/00' '1/3/00' '1/5/00' '1/4/00' nan]\n",
      "\n",
      "Unique values in Policy Type:\n",
      " ['Personal Auto' 'Corporate Auto' 'Special Auto' nan]\n",
      "\n",
      "Unique values in Vehicle Class:\n",
      " ['Four-Door Car' 'Two-Door Car' 'SUV' 'Luxury SUV' 'Sports Car'\n",
      " 'Luxury Car' nan]\n",
      "\n",
      "Summary statistics for numerical columns:\n",
      "              Income  Monthly Premium Auto  Total Claim Amount\n",
      "count   1071.000000           1071.000000         1071.000000\n",
      "mean   39295.701214            193.234360          404.986909\n",
      "std    30469.427060           1601.190369          293.027260\n",
      "min        0.000000             61.000000            0.382107\n",
      "25%    14072.000000             68.000000          202.157702\n",
      "50%    36234.000000             83.000000          354.729129\n",
      "75%    64631.000000            109.500000          532.800000\n",
      "max    99960.000000          35354.000000         2893.239678\n",
      "\n",
      "Mode for numerical columns:\n",
      "    Income  Monthly Premium Auto  Total Claim Amount\n",
      "0     0.0                  65.0               321.6\n",
      "\n",
      "Value counts for Customer:\n",
      " Customer\n",
      "MY31220    1\n",
      "RB50392    1\n",
      "QZ44356    1\n",
      "AI49188    1\n",
      "WW63253    1\n",
      "          ..\n",
      "FL50705    1\n",
      "WC83389    1\n",
      "OE15005    1\n",
      "FV94802    1\n",
      "BW63560    1\n",
      "Name: count, Length: 1071, dtype: int64\n",
      "\n",
      "Value counts for ST:\n",
      " ST\n",
      "Oregon        320\n",
      "California    211\n",
      "Arizona       186\n",
      "Cali          120\n",
      "Nevada         98\n",
      "Washington     81\n",
      "WA             30\n",
      "AZ             25\n",
      "Name: count, dtype: int64\n",
      "\n",
      "Value counts for GENDER:\n",
      " GENDER\n",
      "F         457\n",
      "M         413\n",
      "Male       39\n",
      "female     28\n",
      "Femal      17\n",
      "Name: count, dtype: int64\n",
      "\n",
      "Value counts for Education:\n",
      " Education\n",
      "Bachelor                324\n",
      "College                 313\n",
      "High School or Below    296\n",
      "Master                   94\n",
      "Doctor                   37\n",
      "Bachelors                 7\n",
      "Name: count, dtype: int64\n",
      "\n",
      "Value counts for Customer Lifetime Value:\n",
      " Customer Lifetime Value\n",
      "251459.20%    4\n",
      "445811.34%    4\n",
      "578018.22%    3\n",
      "684615.03%    3\n",
      "477294.38%    3\n",
      "             ..\n",
      "251753.36%    1\n",
      "532667.77%    1\n",
      "260027.21%    1\n",
      "853479.28%    1\n",
      "882883.50%    1\n",
      "Name: count, Length: 1027, dtype: int64\n",
      "\n",
      "Value counts for Number of Open Complaints:\n",
      " Number of Open Complaints\n",
      "1/0/00    830\n",
      "1/1/00    138\n",
      "1/2/00     50\n",
      "1/3/00     34\n",
      "1/4/00     13\n",
      "1/5/00      6\n",
      "Name: count, dtype: int64\n",
      "\n",
      "Value counts for Policy Type:\n",
      " Policy Type\n",
      "Personal Auto     780\n",
      "Corporate Auto    234\n",
      "Special Auto       57\n",
      "Name: count, dtype: int64\n",
      "\n",
      "Value counts for Vehicle Class:\n",
      " Vehicle Class\n",
      "Four-Door Car    576\n",
      "Two-Door Car     205\n",
      "SUV              199\n",
      "Sports Car        57\n",
      "Luxury SUV        20\n",
      "Luxury Car        14\n",
      "Name: count, dtype: int64\n"
     ]
    }
   ],
   "source": [
    "import pandas as pd\n",
    "\n",
    "# Load dataset\n",
    "url = 'https://raw.githubusercontent.com/data-bootcamp-v4/data/main/file1.csv'\n",
    "df = pd.read_csv(url)\n",
    "\n",
    "# 1: Identify dimensions of dataset\n",
    "dimensions = df.shape\n",
    "print(f\"Dimensions of the dataset: {dimensions}\")\n",
    "\n",
    "# 2: Determine data types and suggest corrections\n",
    "data_types = df.dtypes\n",
    "print(\"\\nData types of each column:\\n\", data_types)\n",
    "\n",
    "# 3: Count unique values in each column and identify categorical columns\n",
    "unique_values = df.nunique()\n",
    "print(\"\\nNumber of unique values in each column:\\n\", unique_values)\n",
    "\n",
    "categorical_columns = df.select_dtypes(include=['object']).columns\n",
    "print(\"\\nCategorical columns:\", categorical_columns)\n",
    "\n",
    "for column in categorical_columns:\n",
    "    print(f\"\\nUnique values in {column}:\\n\", df[column].unique())\n",
    "\n",
    "# 4: Compute summary statistics for numerical columns\n",
    "numerical_columns = df.select_dtypes(include=['number']).columns\n",
    "summary_stats = df[numerical_columns].describe()\n",
    "print(\"\\nSummary statistics for numerical columns:\\n\", summary_stats)\n",
    "\n",
    "# Compute mode for numerical columns\n",
    "mode_values = df[numerical_columns].mode()\n",
    "print(\"\\nMode for numerical columns:\\n\", mode_values)\n",
    "\n",
    "# 5: Summary statistics for categorical columns\n",
    "for column in categorical_columns:\n",
    "    print(f\"\\nValue counts for {column}:\\n\", df[column].value_counts())\n"
   ]
  },
  {
   "cell_type": "markdown",
   "id": "4a703890-63db-4944-b7ab-95a4f8185120",
   "metadata": {},
   "source": [
    "## Challenge 2: analyzing the data"
   ]
  },
  {
   "cell_type": "markdown",
   "id": "0776a403-c56a-452f-ac33-5fd4fdb06fc7",
   "metadata": {},
   "source": [
    "### Exercise 1"
   ]
  },
  {
   "cell_type": "markdown",
   "id": "eedbc484-da4d-4f9c-9343-e1d44311a87e",
   "metadata": {},
   "source": [
    "The marketing team wants to know the top 5 less common customer locations. Create a pandas Series object that contains the customer locations and their frequencies, and then retrieve the top 5 less common locations in ascending order."
   ]
  },
  {
   "cell_type": "code",
   "execution_count": null,
   "id": "2dca5073-4520-4f42-9390-4b92733284ed",
   "metadata": {},
   "outputs": [],
   "source": [
    "# Your code here\n",
    "\n"
   ]
  },
  {
   "cell_type": "markdown",
   "id": "0ce80f43-4afa-43c7-a78a-c917444da4e0",
   "metadata": {},
   "source": [
    "### Exercise 2\n",
    "\n",
    "The sales team wants to know the total number of policies sold for each type of policy. Create a pandas Series object that contains the policy types and their total number of policies sold, and then retrieve the policy type with the highest number of policies sold."
   ]
  },
  {
   "cell_type": "markdown",
   "id": "a9f13997-1555-4f98-aca6-970fda1d2c3f",
   "metadata": {},
   "source": [
    "*Hint:*\n",
    "- *Using value_counts() method simplifies this analysis.*\n",
    "- *Futhermore, there is a method that returns the index of the maximum value in a column or row.*\n"
   ]
  },
  {
   "cell_type": "code",
   "execution_count": null,
   "id": "bcfad6c1-9af2-4b0b-9aa9-0dc5c17473c0",
   "metadata": {},
   "outputs": [],
   "source": [
    "# Your code here\n",
    "\n"
   ]
  },
  {
   "cell_type": "markdown",
   "id": "0b863fd3-bf91-4d5d-86eb-be29ed9f5b70",
   "metadata": {},
   "source": [
    "### Exercise 3\n",
    "\n",
    "The sales team wants to know if customers with Personal Auto have a lower income than those with Corporate Auto. How does the average income compare between the two policy types?"
   ]
  },
  {
   "cell_type": "markdown",
   "id": "b1386d75-2810-4aa1-93e0-9485aa12d552",
   "metadata": {},
   "source": [
    "- Use *loc* to create two dataframes: one containing only Personal Auto policies and one containing only Corporate Auto policies.\n",
    "- Calculate the average income for each policy.\n",
    "- Print the results."
   ]
  },
  {
   "cell_type": "code",
   "execution_count": null,
   "id": "0c0563cf-6f8b-463d-a321-651a972f82e5",
   "metadata": {},
   "outputs": [],
   "source": [
    "# Your code here\n",
    "\n"
   ]
  },
  {
   "cell_type": "markdown",
   "id": "80b16c27-f4a5-4727-a229-1f88671cf4e2",
   "metadata": {},
   "source": [
    "### Bonus: Exercise 4\n"
   ]
  },
  {
   "cell_type": "markdown",
   "id": "ac584986-299b-475f-ac2e-928c16c3f512",
   "metadata": {},
   "source": [
    "Your goal is to identify customers with a high policy claim amount.\n",
    "\n",
    "Instructions:\n",
    "\n",
    "- Review again the statistics for total claim amount to gain an understanding of the data.\n",
    "- To identify potential areas for improving customer retention and profitability, we want to focus on customers with a high policy claim amount. Consider customers with a high policy claim amount to be those in the top 25% of the total claim amount. Create a pandas DataFrame object that contains information about customers with a policy claim amount greater than the 75th percentile.\n",
    "- Use DataFrame methods to calculate summary statistics about the high policy claim amount data. "
   ]
  },
  {
   "cell_type": "markdown",
   "id": "4e3af5f1-6023-4b05-9c01-d05392daa650",
   "metadata": {},
   "source": [
    "*Note: When analyzing data, we often want to focus on certain groups of values to gain insights. Percentiles are a useful tool to help us define these groups. A percentile is a measure that tells us what percentage of values in a dataset are below a certain value. For example, the 75th percentile represents the value below which 75% of the data falls. Similarly, the 25th percentile represents the value below which 25% of the data falls. When we talk about the top 25%, we are referring to the values that fall above the 75th percentile, which represent the top quarter of the data. On the other hand, when we talk about the bottom 25%, we are referring to the values that fall below the 25th percentile, which represent the bottom quarter of the data. By focusing on these groups, we can identify patterns and trends that may be useful for making decisions and taking action.*\n",
    "\n",
    "*Hint: look for a method that gives you the percentile or quantile 0.75 and 0.25 for a Pandas Series.*"
   ]
  },
  {
   "cell_type": "markdown",
   "id": "2d234634-50bd-41e0-88f7-d5ba684455d1",
   "metadata": {},
   "source": [
    "*Hint 2: check `Boolean selection according to the values of a single column` in https://towardsdatascience.com/filtering-data-frames-in-pandas-b570b1f834b9*"
   ]
  },
  {
   "cell_type": "code",
   "execution_count": null,
   "id": "b731bca6-a760-4860-a27b-a33efa712ce0",
   "metadata": {},
   "outputs": [],
   "source": [
    "# Your code here\n",
    "\n"
   ]
  }
 ],
 "metadata": {
  "kernelspec": {
   "display_name": "Python 3 (ipykernel)",
   "language": "python",
   "name": "python3"
  },
  "language_info": {
   "codemirror_mode": {
    "name": "ipython",
    "version": 3
   },
   "file_extension": ".py",
   "mimetype": "text/x-python",
   "name": "python",
   "nbconvert_exporter": "python",
   "pygments_lexer": "ipython3",
   "version": "3.12.6"
  }
 },
 "nbformat": 4,
 "nbformat_minor": 5
}
